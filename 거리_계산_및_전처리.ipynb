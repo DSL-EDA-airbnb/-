{
  "nbformat": 4,
  "nbformat_minor": 0,
  "metadata": {
    "colab": {
      "name": "거리 계산 및 전처리.ipynb",
      "provenance": []
    },
    "kernelspec": {
      "name": "python3",
      "display_name": "Python 3"
    },
    "language_info": {
      "name": "python"
    }
  },
  "cells": [
    {
      "cell_type": "markdown",
      "metadata": {
        "id": "nJ0uqLERajb9"
      },
      "source": [
        "# **데이터 불러오기**"
      ]
    },
    {
      "cell_type": "code",
      "metadata": {
        "id": "zLsDH0aaWpAO"
      },
      "source": [
        "import numpy as np\n",
        "import pandas as pd\n",
        "import datetime\n",
        "import matplotlib as mpl         \n",
        "import matplotlib.pyplot as plt \n",
        "import seaborn as sns\n",
        "from haversine import haversine"
      ],
      "execution_count": 45,
      "outputs": []
    },
    {
      "cell_type": "code",
      "metadata": {
        "colab": {
          "base_uri": "https://localhost:8080/"
        },
        "id": "2l9pb5roYMEt",
        "outputId": "c15f47cd-020e-43f5-acbe-bc6e413979a6"
      },
      "source": [
        "pip install haversine"
      ],
      "execution_count": 9,
      "outputs": [
        {
          "output_type": "stream",
          "text": [
            "Collecting haversine\n",
            "  Downloading haversine-2.3.1-py2.py3-none-any.whl (5.5 kB)\n",
            "Installing collected packages: haversine\n",
            "Successfully installed haversine-2.3.1\n"
          ],
          "name": "stdout"
        }
      ]
    },
    {
      "cell_type": "code",
      "metadata": {
        "id": "mojL45-LWyMP"
      },
      "source": [
        "df_NYC = pd.read_csv(\"/content/df_NYC.csv\")\n",
        "df_Boston = pd.read_csv(\"/content/df_Boston.csv\")\n",
        "df_LA = pd.read_csv(\"/content/df_LA.csv\")\n",
        "df_Chicago = pd.read_csv(\"/content/df_Chicago.csv\")\n",
        "df_DC = pd.read_csv(\"/content/df_DC.csv\")\n",
        "df_SF = pd.read_csv(\"/content/df_SF.csv\")"
      ],
      "execution_count": 46,
      "outputs": []
    },
    {
      "cell_type": "markdown",
      "metadata": {
        "id": "s3zwaF55anQA"
      },
      "source": [
        "# **거리 계산하기**"
      ]
    },
    {
      "cell_type": "code",
      "metadata": {
        "id": "k3C34yjiaDZH"
      },
      "source": [
        "def haversine_np(lon1, lat1, lon2, lat2):\n",
        "    \"\"\"\n",
        "    Calculate the great circle distance between two points\n",
        "    on the earth (specified in decimal degrees)\n",
        "\n",
        "    All args must be of equal length.    \n",
        "\n",
        "    \"\"\"\n",
        "    lon1, lat1, lon2, lat2 = map(np.radians, [lon1, lat1, lon2, lat2])\n",
        "\n",
        "    dlon = lon2 - lon1\n",
        "    dlat = lat2 - lat1\n",
        "\n",
        "    a = np.sin(dlat/2.0)**2 + np.cos(lat1) * np.cos(lat2) * np.sin(dlon/2.0)**2\n",
        "\n",
        "    c = 2 * np.arcsin(np.sqrt(a))\n",
        "    km = 6367 * c\n",
        "    return round(km,4)"
      ],
      "execution_count": 48,
      "outputs": []
    },
    {
      "cell_type": "markdown",
      "metadata": {
        "id": "mqCi1FxhbDk2"
      },
      "source": [
        "(1)NYC"
      ]
    },
    {
      "cell_type": "code",
      "metadata": {
        "colab": {
          "base_uri": "https://localhost:8080/"
        },
        "id": "XWpFzelraKKG",
        "outputId": "b1adb877-24fe-470d-b09a-91508052f767"
      },
      "source": [
        "df_NYC['distance'] = haversine_np(df_NYC['latitude'],df_NYC['longitude'],40.6643,-73.9385)\n",
        "print(df_NYC['distance'])"
      ],
      "execution_count": 49,
      "outputs": [
        {
          "output_type": "stream",
          "text": [
            "0        5.9849\n",
            "1        6.4274\n",
            "2        4.4591\n",
            "3        5.3645\n",
            "4        5.9953\n",
            "          ...  \n",
            "32344    7.5376\n",
            "32345    1.7620\n",
            "32346    1.3787\n",
            "32347    1.3742\n",
            "32348    7.2205\n",
            "Name: distance, Length: 32349, dtype: float64\n"
          ],
          "name": "stdout"
        }
      ]
    },
    {
      "cell_type": "markdown",
      "metadata": {
        "id": "e0f58T3FbG-z"
      },
      "source": [
        "(2)LA"
      ]
    },
    {
      "cell_type": "code",
      "metadata": {
        "colab": {
          "base_uri": "https://localhost:8080/"
        },
        "id": "BIz4VzuJbIlt",
        "outputId": "bcc173b0-ed58-46d5-951e-42c62af70b91"
      },
      "source": [
        "df_LA['distance'] = haversine_np(df_LA['latitude'],df_LA['longitude'],34.0914,-118.411)\n",
        "print(df_LA['distance'])"
      ],
      "execution_count": 50,
      "outputs": [
        {
          "output_type": "stream",
          "text": [
            "0         8.2237\n",
            "1        16.8961\n",
            "2        57.4639\n",
            "3        11.4267\n",
            "4        14.8966\n",
            "          ...   \n",
            "22448    10.4051\n",
            "22449    23.7167\n",
            "22450     7.4544\n",
            "22451    11.7394\n",
            "22452    29.8812\n",
            "Name: distance, Length: 22453, dtype: float64\n"
          ],
          "name": "stdout"
        }
      ]
    },
    {
      "cell_type": "markdown",
      "metadata": {
        "id": "wFZpBYkvbSvj"
      },
      "source": [
        "(3)DC"
      ]
    },
    {
      "cell_type": "code",
      "metadata": {
        "colab": {
          "base_uri": "https://localhost:8080/"
        },
        "id": "Nz2js8R5bT99",
        "outputId": "e31fac70-07ca-41da-df8c-8eb62f324244"
      },
      "source": [
        "df_DC['distance'] = haversine_np(df_DC['latitude'],df_DC['longitude'],38.9041,-77.0171)\n",
        "print(df_DC['distance'])"
      ],
      "execution_count": 51,
      "outputs": [
        {
          "output_type": "stream",
          "text": [
            "0       2.0170\n",
            "1       1.6129\n",
            "2       2.2488\n",
            "3       3.9129\n",
            "4       4.4084\n",
            "         ...  \n",
            "5683    4.2371\n",
            "5684    3.1730\n",
            "5685    3.0480\n",
            "5686    4.0676\n",
            "5687    1.2985\n",
            "Name: distance, Length: 5688, dtype: float64\n"
          ],
          "name": "stdout"
        }
      ]
    },
    {
      "cell_type": "markdown",
      "metadata": {
        "id": "3lEir4SsbwA6"
      },
      "source": [
        "(4)Chicago"
      ]
    },
    {
      "cell_type": "code",
      "metadata": {
        "colab": {
          "base_uri": "https://localhost:8080/"
        },
        "id": "TxvY6lnkbi53",
        "outputId": "e3c78964-1635-474e-bdc9-f8bda45373de"
      },
      "source": [
        "df_Chicago['distance'] = haversine_np(df_Chicago['latitude'],df_Chicago['longitude'],41.8379,-87.6828)\n",
        "print(df_Chicago['distance'])"
      ],
      "execution_count": 52,
      "outputs": [
        {
          "output_type": "stream",
          "text": [
            "0       1.4181\n",
            "1       0.8989\n",
            "2       7.0569\n",
            "3       0.3803\n",
            "4       1.8839\n",
            "         ...  \n",
            "3714    5.7447\n",
            "3715    0.7709\n",
            "3716    1.4472\n",
            "3717    4.6334\n",
            "3718    6.6481\n",
            "Name: distance, Length: 3719, dtype: float64\n"
          ],
          "name": "stdout"
        }
      ]
    },
    {
      "cell_type": "markdown",
      "metadata": {
        "id": "iupK3efLbyDW"
      },
      "source": [
        "(5)Boston"
      ]
    },
    {
      "cell_type": "code",
      "metadata": {
        "colab": {
          "base_uri": "https://localhost:8080/"
        },
        "id": "0otOYATab0LK",
        "outputId": "f50944e9-0372-4746-feb0-e7e3abfeaede"
      },
      "source": [
        "df_Boston['distance'] = haversine_np(df_Boston['latitude'],df_Boston['longitude'],42.332,-71.0202)\n",
        "print(df_Boston['distance'])"
      ],
      "execution_count": 53,
      "outputs": [
        {
          "output_type": "stream",
          "text": [
            "0        3.2854\n",
            "1        3.6617\n",
            "2        3.6387\n",
            "3       10.3500\n",
            "4        5.7825\n",
            "         ...   \n",
            "3463    13.8056\n",
            "3464    14.8960\n",
            "3465     9.5723\n",
            "3466     8.5176\n",
            "3467     9.0131\n",
            "Name: distance, Length: 3468, dtype: float64\n"
          ],
          "name": "stdout"
        }
      ]
    },
    {
      "cell_type": "markdown",
      "metadata": {
        "id": "kFMXD5qdb7pI"
      },
      "source": [
        "(6)SF"
      ]
    },
    {
      "cell_type": "code",
      "metadata": {
        "colab": {
          "base_uri": "https://localhost:8080/"
        },
        "id": "dBTBhVpob9TG",
        "outputId": "1f89d355-80be-4b4d-a42a-8afc998f44db"
      },
      "source": [
        "df_SF['distance'] = haversine_np(df_SF['latitude'],df_SF['longitude'],37.7272,-123.032)\n",
        "print(df_SF['distance'])"
      ],
      "execution_count": 54,
      "outputs": [
        {
          "output_type": "stream",
          "text": [
            "0       66.7717\n",
            "1       66.9682\n",
            "2       59.0859\n",
            "3       63.2777\n",
            "4       64.8298\n",
            "         ...   \n",
            "6429    64.9039\n",
            "6430    69.4920\n",
            "6431    69.0983\n",
            "6432    67.8026\n",
            "6433    69.5129\n",
            "Name: distance, Length: 6434, dtype: float64\n"
          ],
          "name": "stdout"
        }
      ]
    },
    {
      "cell_type": "markdown",
      "metadata": {
        "id": "gBGEnZh-dAtH"
      },
      "source": [
        "# **전처리**"
      ]
    },
    {
      "cell_type": "code",
      "metadata": {
        "id": "2FM7kmqydC6l"
      },
      "source": [
        "del df_NYC['first_review']\n",
        "del df_Boston['first_review']\n",
        "del df_DC['first_review']\n",
        "del df_LA['first_review']\n",
        "del df_SF['first_review']\n",
        "del df_Chicago['first_review']"
      ],
      "execution_count": 55,
      "outputs": []
    },
    {
      "cell_type": "code",
      "metadata": {
        "id": "XQfmJN36dnIB"
      },
      "source": [
        "# price 정수형으로 변환\n",
        "df_NYC['log_price']=df_NYC['log_price'].astype(int)\n",
        "df_DC['log_price']=df_DC['log_price'].astype(int)\n",
        "df_Boston['log_price']=df_Boston['log_price'].astype(int)\n",
        "df_Chicago['log_price']=df_Chicago['log_price'].astype(int)\n",
        "df_LA['log_price']=df_LA['log_price'].astype(int)\n",
        "df_SF['log_price']=df_SF['log_price'].astype(int)"
      ],
      "execution_count": 58,
      "outputs": []
    },
    {
      "cell_type": "code",
      "metadata": {
        "colab": {
          "base_uri": "https://localhost:8080/",
          "height": 283
        },
        "id": "KxlfiuKVeyTT",
        "outputId": "5f6af25e-e66b-445e-f595-a3bd6a47a8c3"
      },
      "source": [
        "plt.scatter(df_NYC['distance'],df_NYC['log_price'])"
      ],
      "execution_count": 63,
      "outputs": [
        {
          "output_type": "execute_result",
          "data": {
            "text/plain": [
              "<matplotlib.collections.PathCollection at 0x7fcd245e8450>"
            ]
          },
          "metadata": {
            "tags": []
          },
          "execution_count": 63
        },
        {
          "output_type": "display_data",
          "data": {
            "image/png": "[encoded data removed]",
            "text/plain": [
              "<Figure size 432x288 with 1 Axes>"
            ]
          },
          "metadata": {
            "tags": [],
            "needs_background": "light"
          }
        }
      ]
    }
  ]
}